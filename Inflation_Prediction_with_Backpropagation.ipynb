{
  "nbformat": 4,
  "nbformat_minor": 0,
  "metadata": {
    "colab": {
      "provenance": []
    },
    "kernelspec": {
      "name": "python3",
      "display_name": "Python 3"
    },
    "language_info": {
      "name": "python"
    }
  },
  "cells": [
    {
      "cell_type": "markdown",
      "source": [
        "## Persiapan Data"
      ],
      "metadata": {
        "id": "AmNdeOhSLFTd"
      }
    },
    {
      "cell_type": "code",
      "execution_count": null,
      "metadata": {
        "colab": {
          "base_uri": "https://localhost:8080/",
          "height": 313
        },
        "id": "jyCDn5iaxPa4",
        "outputId": "7e4c9418-90f9-4e0a-a4d5-6e35232ad1c7"
      },
      "outputs": [
        {
          "output_type": "stream",
          "name": "stdout",
          "text": [
            "Requirement already satisfied: gdown in /usr/local/lib/python3.10/dist-packages (4.6.6)\n",
            "Requirement already satisfied: filelock in /usr/local/lib/python3.10/dist-packages (from gdown) (3.13.1)\n",
            "Requirement already satisfied: requests[socks] in /usr/local/lib/python3.10/dist-packages (from gdown) (2.31.0)\n",
            "Requirement already satisfied: six in /usr/local/lib/python3.10/dist-packages (from gdown) (1.16.0)\n",
            "Requirement already satisfied: tqdm in /usr/local/lib/python3.10/dist-packages (from gdown) (4.66.1)\n",
            "Requirement already satisfied: beautifulsoup4 in /usr/local/lib/python3.10/dist-packages (from gdown) (4.11.2)\n",
            "Requirement already satisfied: soupsieve>1.2 in /usr/local/lib/python3.10/dist-packages (from beautifulsoup4->gdown) (2.5)\n",
            "Requirement already satisfied: charset-normalizer<4,>=2 in /usr/local/lib/python3.10/dist-packages (from requests[socks]->gdown) (3.3.2)\n",
            "Requirement already satisfied: idna<4,>=2.5 in /usr/local/lib/python3.10/dist-packages (from requests[socks]->gdown) (3.4)\n",
            "Requirement already satisfied: urllib3<3,>=1.21.1 in /usr/local/lib/python3.10/dist-packages (from requests[socks]->gdown) (2.0.7)\n",
            "Requirement already satisfied: certifi>=2017.4.17 in /usr/local/lib/python3.10/dist-packages (from requests[socks]->gdown) (2023.7.22)\n",
            "Requirement already satisfied: PySocks!=1.5.7,>=1.5.6 in /usr/local/lib/python3.10/dist-packages (from requests[socks]->gdown) (1.7.1)\n"
          ]
        },
        {
          "output_type": "stream",
          "name": "stderr",
          "text": [
            "Downloading...\n",
            "From: https://docs.google.com/uc?export=download&confirm=t&id=10sfKtofHxn41NEHMc7_e5DMEwTCypvoc\n",
            "To: /content/data.csv\n",
            "100%|██████████| 4.59k/4.59k [00:00<00:00, 4.29MB/s]\n"
          ]
        },
        {
          "output_type": "execute_result",
          "data": {
            "text/plain": [
              "'data.csv'"
            ],
            "application/vnd.google.colaboratory.intrinsic+json": {
              "type": "string"
            }
          },
          "metadata": {},
          "execution_count": 1
        }
      ],
      "source": [
        "!pip install gdown\n",
        "import gdown\n",
        "gdown.download(\"https://docs.google.com/uc?export=download&confirm=t&id=10sfKtofHxn41NEHMc7_e5DMEwTCypvoc\", 'data.csv')"
      ]
    },
    {
      "cell_type": "code",
      "source": [
        "import pandas as pd\n",
        "import numpy as np\n",
        "\n",
        "def sanitize_percentage(x):\n",
        "  return float(x.split(' ')[0])\n",
        "\n",
        "def convert_date(indonesian_date):\n",
        "  month_name_to_number = {\n",
        "    \"Januari\": 1,\n",
        "    \"Februari\": 2,\n",
        "    \"Maret\": 3,\n",
        "    \"April\": 4,\n",
        "    \"Mei\": 5,\n",
        "    \"Juni\": 6,\n",
        "    \"Juli\": 7,\n",
        "    \"Agustus\": 8,\n",
        "    \"September\": 9,\n",
        "    \"Oktober\": 10,\n",
        "    \"November\": 11,\n",
        "    \"Desember\": 12\n",
        "  }\n",
        "\n",
        "  month_number = month_name_to_number[indonesian_date.split()[0]]\n",
        "  year = int(indonesian_date.split()[1])\n",
        "\n",
        "  return month_number, year"
      ],
      "metadata": {
        "id": "w0QOsdK6xoGA"
      },
      "execution_count": null,
      "outputs": []
    },
    {
      "cell_type": "code",
      "source": [
        "df = pd.read_csv('data.csv', sep=',')\n",
        "\n",
        "df['Data Inflasi'] = df['Data Inflasi'].apply(sanitize_percentage)\n",
        "f_date = np.array([convert_date(date) for date in df['Periode']])\n",
        "df['Bulan'] = f_date[:,0]\n",
        "df['Tahun'] = f_date[:,1]\n",
        "\n",
        "df = df.iloc[::-1]\n",
        "# df = df[-124:]"
      ],
      "metadata": {
        "id": "lq8xI0FoyJJ3"
      },
      "execution_count": null,
      "outputs": []
    },
    {
      "cell_type": "code",
      "source": [
        "df"
      ],
      "metadata": {
        "colab": {
          "base_uri": "https://localhost:8080/",
          "height": 424
        },
        "id": "YcbdYN_zTCjS",
        "outputId": "86a11a79-4d11-43b5-9126-800a5ad0f7d8"
      },
      "execution_count": null,
      "outputs": [
        {
          "output_type": "execute_result",
          "data": {
            "text/plain": [
              "            Periode  Data Inflasi  Bulan  Tahun\n",
              "225    Januari 2005          7.32      1   2005\n",
              "224   Februari 2005          7.15      2   2005\n",
              "223      Maret 2005          8.81      3   2005\n",
              "222      April 2005          8.12      4   2005\n",
              "221        Mei 2005          7.40      5   2005\n",
              "..              ...           ...    ...    ...\n",
              "4         Juni 2023          3.52      6   2023\n",
              "3         Juli 2023          3.08      7   2023\n",
              "2      Agustus 2023          3.27      8   2023\n",
              "1    September 2023          2.28      9   2023\n",
              "0      Oktober 2023          2.56     10   2023\n",
              "\n",
              "[226 rows x 4 columns]"
            ],
            "text/html": [
              "\n",
              "  <div id=\"df-0998cc26-72fb-4377-8be5-1e2e15b61b95\" class=\"colab-df-container\">\n",
              "    <div>\n",
              "<style scoped>\n",
              "    .dataframe tbody tr th:only-of-type {\n",
              "        vertical-align: middle;\n",
              "    }\n",
              "\n",
              "    .dataframe tbody tr th {\n",
              "        vertical-align: top;\n",
              "    }\n",
              "\n",
              "    .dataframe thead th {\n",
              "        text-align: right;\n",
              "    }\n",
              "</style>\n",
              "<table border=\"1\" class=\"dataframe\">\n",
              "  <thead>\n",
              "    <tr style=\"text-align: right;\">\n",
              "      <th></th>\n",
              "      <th>Periode</th>\n",
              "      <th>Data Inflasi</th>\n",
              "      <th>Bulan</th>\n",
              "      <th>Tahun</th>\n",
              "    </tr>\n",
              "  </thead>\n",
              "  <tbody>\n",
              "    <tr>\n",
              "      <th>225</th>\n",
              "      <td>Januari 2005</td>\n",
              "      <td>7.32</td>\n",
              "      <td>1</td>\n",
              "      <td>2005</td>\n",
              "    </tr>\n",
              "    <tr>\n",
              "      <th>224</th>\n",
              "      <td>Februari 2005</td>\n",
              "      <td>7.15</td>\n",
              "      <td>2</td>\n",
              "      <td>2005</td>\n",
              "    </tr>\n",
              "    <tr>\n",
              "      <th>223</th>\n",
              "      <td>Maret 2005</td>\n",
              "      <td>8.81</td>\n",
              "      <td>3</td>\n",
              "      <td>2005</td>\n",
              "    </tr>\n",
              "    <tr>\n",
              "      <th>222</th>\n",
              "      <td>April 2005</td>\n",
              "      <td>8.12</td>\n",
              "      <td>4</td>\n",
              "      <td>2005</td>\n",
              "    </tr>\n",
              "    <tr>\n",
              "      <th>221</th>\n",
              "      <td>Mei 2005</td>\n",
              "      <td>7.40</td>\n",
              "      <td>5</td>\n",
              "      <td>2005</td>\n",
              "    </tr>\n",
              "    <tr>\n",
              "      <th>...</th>\n",
              "      <td>...</td>\n",
              "      <td>...</td>\n",
              "      <td>...</td>\n",
              "      <td>...</td>\n",
              "    </tr>\n",
              "    <tr>\n",
              "      <th>4</th>\n",
              "      <td>Juni 2023</td>\n",
              "      <td>3.52</td>\n",
              "      <td>6</td>\n",
              "      <td>2023</td>\n",
              "    </tr>\n",
              "    <tr>\n",
              "      <th>3</th>\n",
              "      <td>Juli 2023</td>\n",
              "      <td>3.08</td>\n",
              "      <td>7</td>\n",
              "      <td>2023</td>\n",
              "    </tr>\n",
              "    <tr>\n",
              "      <th>2</th>\n",
              "      <td>Agustus 2023</td>\n",
              "      <td>3.27</td>\n",
              "      <td>8</td>\n",
              "      <td>2023</td>\n",
              "    </tr>\n",
              "    <tr>\n",
              "      <th>1</th>\n",
              "      <td>September 2023</td>\n",
              "      <td>2.28</td>\n",
              "      <td>9</td>\n",
              "      <td>2023</td>\n",
              "    </tr>\n",
              "    <tr>\n",
              "      <th>0</th>\n",
              "      <td>Oktober 2023</td>\n",
              "      <td>2.56</td>\n",
              "      <td>10</td>\n",
              "      <td>2023</td>\n",
              "    </tr>\n",
              "  </tbody>\n",
              "</table>\n",
              "<p>226 rows × 4 columns</p>\n",
              "</div>\n",
              "    <div class=\"colab-df-buttons\">\n",
              "\n",
              "  <div class=\"colab-df-container\">\n",
              "    <button class=\"colab-df-convert\" onclick=\"convertToInteractive('df-0998cc26-72fb-4377-8be5-1e2e15b61b95')\"\n",
              "            title=\"Convert this dataframe to an interactive table.\"\n",
              "            style=\"display:none;\">\n",
              "\n",
              "  <svg xmlns=\"http://www.w3.org/2000/svg\" height=\"24px\" viewBox=\"0 -960 960 960\">\n",
              "    <path d=\"M120-120v-720h720v720H120Zm60-500h600v-160H180v160Zm220 220h160v-160H400v160Zm0 220h160v-160H400v160ZM180-400h160v-160H180v160Zm440 0h160v-160H620v160ZM180-180h160v-160H180v160Zm440 0h160v-160H620v160Z\"/>\n",
              "  </svg>\n",
              "    </button>\n",
              "\n",
              "  <style>\n",
              "    .colab-df-container {\n",
              "      display:flex;\n",
              "      gap: 12px;\n",
              "    }\n",
              "\n",
              "    .colab-df-convert {\n",
              "      background-color: #E8F0FE;\n",
              "      border: none;\n",
              "      border-radius: 50%;\n",
              "      cursor: pointer;\n",
              "      display: none;\n",
              "      fill: #1967D2;\n",
              "      height: 32px;\n",
              "      padding: 0 0 0 0;\n",
              "      width: 32px;\n",
              "    }\n",
              "\n",
              "    .colab-df-convert:hover {\n",
              "      background-color: #E2EBFA;\n",
              "      box-shadow: 0px 1px 2px rgba(60, 64, 67, 0.3), 0px 1px 3px 1px rgba(60, 64, 67, 0.15);\n",
              "      fill: #174EA6;\n",
              "    }\n",
              "\n",
              "    .colab-df-buttons div {\n",
              "      margin-bottom: 4px;\n",
              "    }\n",
              "\n",
              "    [theme=dark] .colab-df-convert {\n",
              "      background-color: #3B4455;\n",
              "      fill: #D2E3FC;\n",
              "    }\n",
              "\n",
              "    [theme=dark] .colab-df-convert:hover {\n",
              "      background-color: #434B5C;\n",
              "      box-shadow: 0px 1px 3px 1px rgba(0, 0, 0, 0.15);\n",
              "      filter: drop-shadow(0px 1px 2px rgba(0, 0, 0, 0.3));\n",
              "      fill: #FFFFFF;\n",
              "    }\n",
              "  </style>\n",
              "\n",
              "    <script>\n",
              "      const buttonEl =\n",
              "        document.querySelector('#df-0998cc26-72fb-4377-8be5-1e2e15b61b95 button.colab-df-convert');\n",
              "      buttonEl.style.display =\n",
              "        google.colab.kernel.accessAllowed ? 'block' : 'none';\n",
              "\n",
              "      async function convertToInteractive(key) {\n",
              "        const element = document.querySelector('#df-0998cc26-72fb-4377-8be5-1e2e15b61b95');\n",
              "        const dataTable =\n",
              "          await google.colab.kernel.invokeFunction('convertToInteractive',\n",
              "                                                    [key], {});\n",
              "        if (!dataTable) return;\n",
              "\n",
              "        const docLinkHtml = 'Like what you see? Visit the ' +\n",
              "          '<a target=\"_blank\" href=https://colab.research.google.com/notebooks/data_table.ipynb>data table notebook</a>'\n",
              "          + ' to learn more about interactive tables.';\n",
              "        element.innerHTML = '';\n",
              "        dataTable['output_type'] = 'display_data';\n",
              "        await google.colab.output.renderOutput(dataTable, element);\n",
              "        const docLink = document.createElement('div');\n",
              "        docLink.innerHTML = docLinkHtml;\n",
              "        element.appendChild(docLink);\n",
              "      }\n",
              "    </script>\n",
              "  </div>\n",
              "\n",
              "\n",
              "<div id=\"df-a294a870-13c4-4d3e-ad7f-474b34cdd472\">\n",
              "  <button class=\"colab-df-quickchart\" onclick=\"quickchart('df-a294a870-13c4-4d3e-ad7f-474b34cdd472')\"\n",
              "            title=\"Suggest charts\"\n",
              "            style=\"display:none;\">\n",
              "\n",
              "<svg xmlns=\"http://www.w3.org/2000/svg\" height=\"24px\"viewBox=\"0 0 24 24\"\n",
              "     width=\"24px\">\n",
              "    <g>\n",
              "        <path d=\"M19 3H5c-1.1 0-2 .9-2 2v14c0 1.1.9 2 2 2h14c1.1 0 2-.9 2-2V5c0-1.1-.9-2-2-2zM9 17H7v-7h2v7zm4 0h-2V7h2v10zm4 0h-2v-4h2v4z\"/>\n",
              "    </g>\n",
              "</svg>\n",
              "  </button>\n",
              "\n",
              "<style>\n",
              "  .colab-df-quickchart {\n",
              "      --bg-color: #E8F0FE;\n",
              "      --fill-color: #1967D2;\n",
              "      --hover-bg-color: #E2EBFA;\n",
              "      --hover-fill-color: #174EA6;\n",
              "      --disabled-fill-color: #AAA;\n",
              "      --disabled-bg-color: #DDD;\n",
              "  }\n",
              "\n",
              "  [theme=dark] .colab-df-quickchart {\n",
              "      --bg-color: #3B4455;\n",
              "      --fill-color: #D2E3FC;\n",
              "      --hover-bg-color: #434B5C;\n",
              "      --hover-fill-color: #FFFFFF;\n",
              "      --disabled-bg-color: #3B4455;\n",
              "      --disabled-fill-color: #666;\n",
              "  }\n",
              "\n",
              "  .colab-df-quickchart {\n",
              "    background-color: var(--bg-color);\n",
              "    border: none;\n",
              "    border-radius: 50%;\n",
              "    cursor: pointer;\n",
              "    display: none;\n",
              "    fill: var(--fill-color);\n",
              "    height: 32px;\n",
              "    padding: 0;\n",
              "    width: 32px;\n",
              "  }\n",
              "\n",
              "  .colab-df-quickchart:hover {\n",
              "    background-color: var(--hover-bg-color);\n",
              "    box-shadow: 0 1px 2px rgba(60, 64, 67, 0.3), 0 1px 3px 1px rgba(60, 64, 67, 0.15);\n",
              "    fill: var(--button-hover-fill-color);\n",
              "  }\n",
              "\n",
              "  .colab-df-quickchart-complete:disabled,\n",
              "  .colab-df-quickchart-complete:disabled:hover {\n",
              "    background-color: var(--disabled-bg-color);\n",
              "    fill: var(--disabled-fill-color);\n",
              "    box-shadow: none;\n",
              "  }\n",
              "\n",
              "  .colab-df-spinner {\n",
              "    border: 2px solid var(--fill-color);\n",
              "    border-color: transparent;\n",
              "    border-bottom-color: var(--fill-color);\n",
              "    animation:\n",
              "      spin 1s steps(1) infinite;\n",
              "  }\n",
              "\n",
              "  @keyframes spin {\n",
              "    0% {\n",
              "      border-color: transparent;\n",
              "      border-bottom-color: var(--fill-color);\n",
              "      border-left-color: var(--fill-color);\n",
              "    }\n",
              "    20% {\n",
              "      border-color: transparent;\n",
              "      border-left-color: var(--fill-color);\n",
              "      border-top-color: var(--fill-color);\n",
              "    }\n",
              "    30% {\n",
              "      border-color: transparent;\n",
              "      border-left-color: var(--fill-color);\n",
              "      border-top-color: var(--fill-color);\n",
              "      border-right-color: var(--fill-color);\n",
              "    }\n",
              "    40% {\n",
              "      border-color: transparent;\n",
              "      border-right-color: var(--fill-color);\n",
              "      border-top-color: var(--fill-color);\n",
              "    }\n",
              "    60% {\n",
              "      border-color: transparent;\n",
              "      border-right-color: var(--fill-color);\n",
              "    }\n",
              "    80% {\n",
              "      border-color: transparent;\n",
              "      border-right-color: var(--fill-color);\n",
              "      border-bottom-color: var(--fill-color);\n",
              "    }\n",
              "    90% {\n",
              "      border-color: transparent;\n",
              "      border-bottom-color: var(--fill-color);\n",
              "    }\n",
              "  }\n",
              "</style>\n",
              "\n",
              "  <script>\n",
              "    async function quickchart(key) {\n",
              "      const quickchartButtonEl =\n",
              "        document.querySelector('#' + key + ' button');\n",
              "      quickchartButtonEl.disabled = true;  // To prevent multiple clicks.\n",
              "      quickchartButtonEl.classList.add('colab-df-spinner');\n",
              "      try {\n",
              "        const charts = await google.colab.kernel.invokeFunction(\n",
              "            'suggestCharts', [key], {});\n",
              "      } catch (error) {\n",
              "        console.error('Error during call to suggestCharts:', error);\n",
              "      }\n",
              "      quickchartButtonEl.classList.remove('colab-df-spinner');\n",
              "      quickchartButtonEl.classList.add('colab-df-quickchart-complete');\n",
              "    }\n",
              "    (() => {\n",
              "      let quickchartButtonEl =\n",
              "        document.querySelector('#df-a294a870-13c4-4d3e-ad7f-474b34cdd472 button');\n",
              "      quickchartButtonEl.style.display =\n",
              "        google.colab.kernel.accessAllowed ? 'block' : 'none';\n",
              "    })();\n",
              "  </script>\n",
              "</div>\n",
              "    </div>\n",
              "  </div>\n"
            ]
          },
          "metadata": {},
          "execution_count": 4
        }
      ]
    },
    {
      "cell_type": "markdown",
      "source": [
        "# Backpropagation"
      ],
      "metadata": {
        "id": "htfY7UQFP_RT"
      }
    },
    {
      "cell_type": "markdown",
      "source": [],
      "metadata": {
        "id": "O1Ro6GMkY7AJ"
      }
    },
    {
      "cell_type": "markdown",
      "source": [
        "## Pembuatan dataset\n",
        "\n"
      ],
      "metadata": {
        "id": "4_lE8ixSMYa3"
      }
    },
    {
      "cell_type": "code",
      "source": [
        "# Datas\n",
        "lag_count = 12\n",
        "y = np.array(df[['Data Inflasi']])\n",
        "X = None\n",
        "\n",
        "for lag in range(lag_count, 0, -1):\n",
        "  if X is None:\n",
        "    X = np.roll(y, lag)\n",
        "  else:\n",
        "    X = np.append(X, np.roll(y, lag), axis=1)\n",
        "\n",
        "X = X[lag_count:,:]\n",
        "y = y[lag_count:,:]\n",
        "\n",
        "print(X.shape)\n",
        "print(y.shape)"
      ],
      "metadata": {
        "colab": {
          "base_uri": "https://localhost:8080/"
        },
        "id": "oOyeWd3vL3nF",
        "outputId": "2206a02b-d072-4593-a4ee-229f14bb322d"
      },
      "execution_count": null,
      "outputs": [
        {
          "output_type": "stream",
          "name": "stdout",
          "text": [
            "(214, 12)\n",
            "(214, 1)\n"
          ]
        }
      ]
    },
    {
      "cell_type": "markdown",
      "source": [
        "## Model Backpropagation\n",
        "\n",
        "Model dibuat dengan 2 hidden layer menggunakan fungsi aktivasi tanh. Jumlah neuron pada hidden layer ini dapat diatur melalui argumen `h1_size` dan `h2_size` sebagai hyperparameter. Fungsi loss yang digunakan adalah MSE karena kasus yang akan adalah prediksi dengan metode regresi.\n",
        "\n",
        "Hyperparameter lain yang dapat diatur adalah learning rate (`lr`) dan jumlah epoch. Penentuan bobot dilakukan secara acak, sedangkan bias diinisialisasi dengan nilai 0."
      ],
      "metadata": {
        "id": "x5SiBbiVLKh8"
      }
    },
    {
      "cell_type": "code",
      "source": [
        "from tqdm import tqdm\n",
        "from concurrent.futures import ThreadPoolExecutor\n",
        "\n",
        "class NeuralNetwork:\n",
        "  def __init__(self, in_size, h1_size, h2_size, o_size, lr=.01):\n",
        "    # Inisialisasi bobot\n",
        "    self.w1 = np.random.randn(in_size, h1_size)\n",
        "    self.b1 = np.zeros((1, h1_size))\n",
        "    self.w2 = np.random.randn(h1_size, h2_size)\n",
        "    self.b2 = np.zeros((1, h2_size))\n",
        "    self.w3 = np.random.randn(h2_size, o_size)\n",
        "    self.b3 = np.zeros((1, o_size))\n",
        "    self.lr = lr\n",
        "\n",
        "  def tanh(self, x):\n",
        "    return np.tanh(x)\n",
        "\n",
        "  def tanh_derivative(self, x):\n",
        "    return 1.0 - np.tanh(x)**2\n",
        "\n",
        "  def mse_loss(self, y_pred, y_true):\n",
        "    return np.mean((y_pred - y_true)**2)\n",
        "\n",
        "  def forward(self, x):\n",
        "    self.layer1 = np.dot(x, self.w1) + self.b1\n",
        "    self.activation1 = self.tanh(self.layer1)\n",
        "    self.layer2 = np.dot(self.activation1, self.w2) + self.b2\n",
        "    self.activation2 = self.tanh(self.layer2)\n",
        "    self.output = np.dot(self.activation2, self.w3) + self.b3\n",
        "    return self.output\n",
        "\n",
        "  def backward(self, x, y):\n",
        "    output_error = self.output - y\n",
        "\n",
        "    dw3 = np.dot(self.activation2.T, output_error)\n",
        "    db3 = np.sum(output_error, axis=0, keepdims=True)\n",
        "    hidden2_error = np.dot(output_error, self.w3.T) * self.tanh_derivative(self.layer2)\n",
        "    dw2 = np.dot(self.activation1.T, hidden2_error)\n",
        "    db2 = np.sum(hidden2_error, axis=0, keepdims=True)\n",
        "    hidden1_error = np.dot(hidden2_error, self.w2.T) * self.tanh_derivative(self.layer1)\n",
        "    dw1 = np.dot(x.T, hidden1_error)\n",
        "    db1 = np.sum(hidden1_error, axis=0, keepdims=True)\n",
        "\n",
        "    self.w1 -= self.lr * dw1\n",
        "    self.b1 -= self.lr * db1\n",
        "    self.w2 -= self.lr * dw2\n",
        "    self.b2 -= self.lr * db2\n",
        "    self.w3 -= self.lr * dw3\n",
        "    self.b3 -= self.lr * db3\n",
        "\n",
        "    return self.mse_loss(self.output, y)\n",
        "\n",
        "  def train(self, x, y, epochs):\n",
        "    pbar = tqdm(range(epochs), leave=True)\n",
        "    losses = []\n",
        "    for epoch in pbar:\n",
        "      loss = 0\n",
        "      for i in range(len(x)):\n",
        "        output = self.forward(x[i:i+1])\n",
        "        loss += self.backward(x[i:i+1], y[i:i+1])\n",
        "\n",
        "      avg_loss = loss / len(x)\n",
        "      pbar.set_postfix({'loss': avg_loss})\n",
        "      losses.append(avg_loss)\n",
        "    return losses\n",
        "\n",
        "  # def train(self, x, y, epochs):\n",
        "  #   pbar = tqdm(range(epochs), leave=True)\n",
        "  #   losses = []\n",
        "\n",
        "  #   def process_data(i):\n",
        "  #     output = self.forward(x[i:i+1])\n",
        "  #     return self.backward(x[i:i+1], y[i:i+1])\n",
        "\n",
        "  #   with ThreadPoolExecutor() as executor:\n",
        "  #     for epoch in pbar:\n",
        "  #       loss = sum(executor.map(process_data, range(len(x))))\n",
        "\n",
        "  #       avg_loss = loss / len(x)\n",
        "  #       pbar.set_postfix({'loss': avg_loss})\n",
        "  #       losses.append(avg_loss)\n",
        "\n",
        "  #   return losses"
      ],
      "metadata": {
        "id": "KBUMGLVGZQ28"
      },
      "execution_count": null,
      "outputs": []
    },
    {
      "cell_type": "markdown",
      "source": [
        "## Pelatihan Model"
      ],
      "metadata": {
        "id": "Ma69viOCPJrZ"
      }
    },
    {
      "cell_type": "code",
      "source": [
        "input_size = X.shape[-1]\n",
        "output_size = 1\n",
        "\n",
        "# Hyperparameter\n",
        "epoch_count = 10000\n",
        "lr = .00005\n",
        "h1_size = 8\n",
        "h2_size = 4\n",
        "\n",
        "model = NeuralNetwork(input_size, h1_size, h2_size, output_size, lr)\n",
        "history = model.train(X, y, epoch_count)"
      ],
      "metadata": {
        "colab": {
          "base_uri": "https://localhost:8080/"
        },
        "id": "S1m4_RV-LrT2",
        "outputId": "16ff4e7b-f110-4935-99fc-56fa5665f657"
      },
      "execution_count": null,
      "outputs": [
        {
          "output_type": "stream",
          "name": "stderr",
          "text": [
            "100%|██████████| 10000/10000 [04:48<00:00, 34.66it/s, loss=0.273]\n"
          ]
        }
      ]
    },
    {
      "cell_type": "code",
      "source": [
        "import matplotlib.pyplot as plt\n",
        "\n",
        "# plt.figure(figsize=(10, 10))\n",
        "plt.plot(history, label='Training Loss')\n",
        "plt.title('Model Loss During Training')\n",
        "plt.xlabel('Epoch')\n",
        "plt.ylabel('Loss')\n",
        "plt.legend()\n",
        "plt.show()"
      ],
      "metadata": {
        "id": "0A5AI9TG_ydN",
        "colab": {
          "base_uri": "https://localhost:8080/",
          "height": 472
        },
        "outputId": "40c6b886-a16d-4087-8123-5b74fb3fe001"
      },
      "execution_count": null,
      "outputs": [
        {
          "output_type": "display_data",
          "data": {
            "text/plain": [
              "<Figure size 640x480 with 1 Axes>"
            ],
            "image/png": "[encoded data removed]"
          },
          "metadata": {}
        }
      ]
    },
    {
      "cell_type": "markdown",
      "source": [
        "## Hasil Prediksi"
      ],
      "metadata": {
        "id": "0YLPlzE8PNt0"
      }
    },
    {
      "cell_type": "code",
      "source": [
        "y_pred = model.forward(X)\n",
        "print(y_pred.shape)\n",
        "\n",
        "pred_count = 12\n",
        "for _ in range(pred_count):\n",
        "  n_pred = model.forward(y_pred[-lag_count:,0][None,:])\n",
        "  y_pred = np.append(y_pred, n_pred, axis=0)\n",
        "\n",
        "y_pred_only = y_pred[-12:]\n",
        "print(y_pred.shape)\n",
        "print(y_pred_only)"
      ],
      "metadata": {
        "id": "7OQrco4ZYsrh",
        "colab": {
          "base_uri": "https://localhost:8080/"
        },
        "outputId": "e6014a64-75a6-4a12-f81b-5f83abc710f0"
      },
      "execution_count": null,
      "outputs": [
        {
          "output_type": "stream",
          "name": "stdout",
          "text": [
            "(214, 1)\n",
            "(226, 1)\n",
            "[[2.17944597]\n",
            " [2.23756812]\n",
            " [2.18851311]\n",
            " [2.03998209]\n",
            " [2.22319321]\n",
            " [2.25841273]\n",
            " [2.10355839]\n",
            " [2.12603225]\n",
            " [1.95280003]\n",
            " [2.12839525]\n",
            " [2.27215781]]\n"
          ]
        }
      ]
    },
    {
      "cell_type": "code",
      "source": [
        "plt.figure(figsize=(20,6))\n",
        "plt.plot(y, label='ground_truth')\n",
        "plt.plot(y_pred, label='prediction')\n",
        "plt.legend()\n",
        "plt.show()"
      ],
      "metadata": {
        "id": "LwWVkGMnibdA",
        "colab": {
          "base_uri": "https://localhost:8080/",
          "height": 522
        },
        "outputId": "eed45d39-d7b9-4a86-fe7e-db70b02ac694"
      },
      "execution_count": null,
      "outputs": [
        {
          "output_type": "display_data",
          "data": {
            "text/plain": [
              "<Figure size 2000x600 with 1 Axes>"
            ],
            "image/png": "[encoded data removed]"
          },
          "metadata": {}
        }
      ]
    },
    {
      "cell_type": "code",
      "source": [],
      "metadata": {
        "id": "8twUPlfHLA-h"
      },
      "execution_count": null,
      "outputs": []
    }
  ]
}